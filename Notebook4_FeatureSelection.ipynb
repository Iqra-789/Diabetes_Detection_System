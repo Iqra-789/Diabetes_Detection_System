{
 "cells": [
  {
   "cell_type": "markdown",
   "id": "1222c28d-8297-491c-ab1a-a065590ab65d",
   "metadata": {},
   "source": [
    "# Feature Selection using Mutual Information\n",
    "\n",
    "This script calculates **Mutual Information (MI) scores** to measure feature relevance in predicting `Diabetic` status. Higher MI scores indicate stronger relationships between features and the target. Features are ranked based on their MI scores, helping in selecting the most informative predictors.\n"
   ]
  },
  {
   "cell_type": "code",
   "execution_count": 9,
   "id": "f523300b-7c4a-4156-b2db-5d80258775f7",
   "metadata": {},
   "outputs": [
    {
     "name": "stdout",
     "output_type": "stream",
     "text": [
      "Mutual Information Scores for Features:\n",
      " GenHealth           0.055741\n",
      "HeartDisease        0.042253\n",
      "AgeCategory         0.038504\n",
      "BMI                 0.036494\n",
      "DiffWalking         0.030315\n",
      "PhysicalHealth      0.022738\n",
      "PhysicalActivity    0.018532\n",
      "KidneyDisease       0.014878\n",
      "Smoking             0.009922\n",
      "Race                0.009352\n",
      "Sex                 0.007664\n",
      "SleepTime           0.007499\n",
      "Stroke              0.006604\n",
      "MentalHealth        0.005229\n",
      "Asthma              0.003231\n",
      "SkinCancer          0.002579\n",
      "AlcoholDrinking     0.002452\n",
      "dtype: float64\n"
     ]
    }
   ],
   "source": [
    "from sklearn.feature_selection import mutual_info_classif\n",
    "import pandas as pd\n",
    "\n",
    "# Ensure the target is numerical\n",
    "y = df['Diabetic']  # Target variable (already encoded as integer)\n",
    "\n",
    "# Select all features (excluding target column)\n",
    "features = df.drop(columns=['Diabetic'])\n",
    "\n",
    "# Compute mutual information for features\n",
    "mutual_info = mutual_info_classif(features, y)  # No need for discrete_values=True\n",
    "mi_scores = pd.Series(mutual_info, index=features.columns).sort_values(ascending=False)\n",
    "\n",
    "# Display Mutual Information Scores\n",
    "print(\"Mutual Information Scores for Features:\\n\", mi_scores)\n"
   ]
  },
  {
   "cell_type": "code",
   "execution_count": 23,
   "id": "21f2b43b-b63a-40c6-be1d-ba4b3d696c1d",
   "metadata": {},
   "outputs": [
    {
     "name": "stdout",
     "output_type": "stream",
     "text": [
      "Selected Features:\n",
      " Index(['GenHealth', 'HeartDisease', 'AgeCategory', 'BMI', 'DiffWalking',\n",
      "       'PhysicalHealth', 'PhysicalActivity', 'KidneyDisease'],\n",
      "      dtype='object')\n"
     ]
    }
   ],
   "source": [
    "# Set a threshold for feature selection\n",
    "threshold = 0.01\n",
    "\n",
    "# Select features with mutual information score above the threshold\n",
    "selected_features = mi_scores[mi_scores > threshold].index\n",
    "\n",
    "# Filter the dataset to keep only the selected features\n",
    "X_selected = df[selected_features]\n",
    "\n",
    "# Now X_selected can be used for model training\n",
    "print(\"Selected Features:\\n\", selected_features)\n"
   ]
  },
  {
   "cell_type": "markdown",
   "id": "0b31ea02-f37f-4f91-b2b0-f687a3b6e83d",
   "metadata": {},
   "source": [
    "### Feature Selection Based on Mutual Information\n",
    "\n",
    "### Threshold for Selection:\n",
    "A **mutual information threshold of 0.01** is applied to retain only the most relevant features.\n",
    "\n",
    "### Selected Features:\n",
    "The following features have a **mutual information score greater than 0.01** and are selected for model training:\n",
    "\n",
    "- **GenHealth (0.0557)**\n",
    "- **HeartDisease (0.0423)**\n",
    "- **AgeCategory (0.0385)**\n",
    "- **BMI (0.0365)**\n",
    "- **DiffWalking (0.0303)**\n",
    "- **PhysicalHealth (0.0227)**\n",
    "- **PhysicalActivity (0.0185)**\n",
    "- **KidneyDisease (0.0149)**\n",
    "\n",
    "#### Dataset Filtering:\n",
    "- The dataset (`df`) is filtered to **retain only these selected features**.\n",
    "- The new dataset `X_selected` contains the most relevant predictors for diabetes classification.\n",
    "\n",
    "This refined feature set will enhance model efficiency and performance by eliminating less relevant variables.\n",
    "___\n"
   ]
  },
  {
   "cell_type": "markdown",
   "id": "11cd704e-c1e2-4e24-a2a9-88c5cd9b5d33",
   "metadata": {},
   "source": [
    "## Feature Selection with Mutual Information\n",
    "\n",
    "- **Objective**: Select the most relevant features for predicting diabetes.\n",
    "- **Method**:\n",
    "  1. Load dataset and extract features.\n",
    "  2. Compute mutual information scores.\n",
    "  3. Retain features with scores > 0.01.\n",
    "  4. Save the filtered dataset for model training.\n",
    "\n",
    "This process improves model performance by focusing on the most significant predictors.\n"
   ]
  },
  {
   "cell_type": "code",
   "execution_count": 27,
   "id": "96413a09-107d-4e36-ac4a-9657e690d1aa",
   "metadata": {},
   "outputs": [
    {
     "name": "stdout",
     "output_type": "stream",
     "text": [
      "   GenHealth  HeartDisease       BMI  AgeCategory  DiffWalking  \\\n",
      "0          3             0 -0.656682            7            0   \n",
      "1          5             0  0.312391           12            0   \n",
      "2          5             0  0.122679           13            0   \n",
      "3          4             1  0.312391           13            0   \n",
      "4          2             0 -1.297603           10            0   \n",
      "\n",
      "   PhysicalActivity  PhysicalHealth  Race  KidneyDisease  Diabetic  \n",
      "0                 1        1.957316     3              0         0  \n",
      "1                 1       -0.627790     5              0         0  \n",
      "2                 1       -0.627790     5              0         0  \n",
      "3                 1       -0.627790     5              0         0  \n",
      "4                 1       -0.627790     5              0         0  \n"
     ]
    }
   ],
   "source": [
    "import pandas as pd\n",
    "from sklearn.feature_selection import mutual_info_classif\n",
    "\n",
    "# Load the dataset\n",
    "df = pd.read_csv('standardized_encoded_data.csv')\n",
    "\n",
    "# Assuming y is the target variable (Diabetic)\n",
    "y = df['Diabetic']\n",
    "\n",
    "# Select features excluding the target\n",
    "features = df.drop(columns=['Diabetic'])\n",
    "\n",
    "# Compute mutual information scores\n",
    "mutual_info = mutual_info_classif(features, y)\n",
    "mi_scores = pd.Series(mutual_info, index=features.columns).sort_values(ascending=False)\n",
    "\n",
    "# Set a threshold for feature selection\n",
    "threshold = 0.01\n",
    "\n",
    "# Select features with mutual information score above the threshold\n",
    "selected_features = mi_scores[mi_scores > threshold].index\n",
    "\n",
    "# Filter the dataset to keep only the selected features along with the target variable\n",
    "df_selected = df[selected_features.tolist() + ['Diabetic']]\n",
    "\n",
    "# Save the updated dataframe\n",
    "df_selected.to_csv('df_selected_features.csv', index=False)\n",
    "\n",
    "# Display the updated dataframe\n",
    "print(df_selected.head())\n"
   ]
  },
  {
   "cell_type": "markdown",
   "id": "cd08fcf0-d6f5-4655-bd8c-cc5cafec7f73",
   "metadata": {},
   "source": [
    "### **Selected Features**:\n",
    "- **GenHealth**: General health condition.\n",
    "- **HeartDisease**: Presence of heart disease (binary).\n",
    "- **BMI**: Standardized Body Mass Index.\n",
    "- **AgeCategory**: Age group (categorical).\n",
    "- **DiffWalking**: Difficulty in walking (binary).\n",
    "- **PhysicalActivity**: Engagement in physical activity (binary).\n",
    "- **PhysicalHealth**: Self-reported physical health status.\n",
    "- **Race**: Categorical race identifier.\n",
    "- **KidneyDisease**: Presence of kidney disease (binary).\n",
    "\n",
    "### **Target Variable**:\n",
    "- **Diabetic**: Indicates whether a person has diabetes (binary).\n",
    "\n",
    "The dataset has been filtered to include only the most relevant features for predicting diabetes.\n"
   ]
  },
  {
   "cell_type": "code",
   "execution_count": 29,
   "id": "647bfdc1-3dd1-44e3-aa13-1364fc4226d9",
   "metadata": {},
   "outputs": [
    {
     "data": {
      "image/png": "[encoded data removed]",
      "text/plain": [
       "<Figure size 1000x600 with 1 Axes>"
      ]
     },
     "metadata": {},
     "output_type": "display_data"
    }
   ],
   "source": [
    "import matplotlib.pyplot as plt\n",
    "\n",
    "# Plot mutual information scores\n",
    "mi_scores.plot(kind='bar', figsize=(10, 6))\n",
    "plt.title(\"Mutual Information Scores for Features\")\n",
    "plt.ylabel(\"Mutual Information\")\n",
    "plt.show()\n",
    "\n",
    "# You can visually inspect the chart to select an appropriate threshold\n"
   ]
  },
  {
   "cell_type": "markdown",
   "id": "f77fe514-aee6-439c-8290-5d91a72e3989",
   "metadata": {},
   "source": [
    "# Recursive Feature Elimination (RFE)"
   ]
  },
  {
   "cell_type": "markdown",
   "id": "f40a68f1-178b-4f14-b6f1-e7004c6643ff",
   "metadata": {},
   "source": [
    "- Used **RandomForestClassifier** to apply **RFE** and select the **top 10 features**.\n",
    "- Filtered the dataset to retain only selected features and the target (**Diabetic**).\n",
    "- Trained a model using the selected features and evaluated its accuracy.\n",
    "- Saved the refined dataset as `df_selected_rfe_features.csv`."
   ]
  },
  {
   "cell_type": "code",
   "execution_count": 32,
   "id": "41f21ef2-2f8b-4099-bb4f-1a68233c5022",
   "metadata": {},
   "outputs": [
    {
     "name": "stdout",
     "output_type": "stream",
     "text": [
      "Selected Features using RFE:\n",
      " Index(['HeartDisease', 'BMI', 'Smoking', 'PhysicalHealth', 'MentalHealth',\n",
      "       'Sex', 'AgeCategory', 'Race', 'GenHealth', 'SleepTime'],\n",
      "      dtype='object')\n",
      "Model Accuracy using RFE Features:  0.9923478025326742\n"
     ]
    }
   ],
   "source": [
    "from sklearn.feature_selection import RFE\n",
    "from sklearn.ensemble import RandomForestClassifier\n",
    "\n",
    "# Define a random forest classifier\n",
    "clf = RandomForestClassifier(n_estimators=100, random_state=42)\n",
    "\n",
    "# Apply RFE (Recursive Feature Elimination)\n",
    "selector = RFE(clf, n_features_to_select=10)  # Select top 10 features\n",
    "selector = selector.fit(features, y)\n",
    "\n",
    "# Get the selected features\n",
    "selected_features_rfe = features.columns[selector.support_]\n",
    "print(\"Selected Features using RFE:\\n\", selected_features_rfe)\n",
    "\n",
    "# Filter the dataset to keep only the selected features\n",
    "df_selected_rfe = df[selected_features_rfe.tolist() + ['Diabetic']]\n",
    "\n",
    "# Save the updated dataframe\n",
    "df_selected_rfe.to_csv('df_selected_rfe_features.csv', index=False)\n",
    "\n",
    "# Model training using selected features\n",
    "clf.fit(df_selected_rfe.drop(columns='Diabetic'), y)\n",
    "accuracy = clf.score(df_selected_rfe.drop(columns='Diabetic'), y)\n",
    "print(\"Model Accuracy using RFE Features: \", accuracy)\n"
   ]
  },
  {
   "cell_type": "markdown",
   "id": "a0a758c4-7d24-411f-9bac-8e1c505a27f0",
   "metadata": {},
   "source": [
    "# Feature Selection using Random Forest\n",
    "\n",
    "Applied **RandomForestClassifier** to determine feature importance, selected relevant features (**importance > 0.01**), trained the model, and saved the refined dataset as `df_selected_rf_features.csv`.\n"
   ]
  },
  {
   "cell_type": "code",
   "execution_count": 3,
   "id": "e623ecf4-09cc-4f1d-897a-faa3f844a166",
   "metadata": {},
   "outputs": [
    {
     "name": "stdout",
     "output_type": "stream",
     "text": [
      "Feature Importances using Random Forest:\n",
      " BMI                 0.298620\n",
      "AgeCategory         0.124102\n",
      "SleepTime           0.107013\n",
      "GenHealth           0.071772\n",
      "PhysicalHealth      0.062847\n",
      "MentalHealth        0.054455\n",
      "Race                0.042253\n",
      "HeartDisease        0.039408\n",
      "Smoking             0.032290\n",
      "Sex                 0.028721\n",
      "DiffWalking         0.025896\n",
      "PhysicalActivity    0.024487\n",
      "Asthma              0.023446\n",
      "SkinCancer          0.021236\n",
      "KidneyDisease       0.017874\n",
      "Stroke              0.016533\n",
      "AlcoholDrinking     0.009045\n",
      "dtype: float64\n",
      "Selected Features using Random Forest:\n",
      " Index(['BMI', 'AgeCategory', 'SleepTime', 'GenHealth', 'PhysicalHealth',\n",
      "       'MentalHealth', 'Race', 'HeartDisease', 'Smoking', 'Sex', 'DiffWalking',\n",
      "       'PhysicalActivity', 'Asthma', 'SkinCancer', 'KidneyDisease', 'Stroke'],\n",
      "      dtype='object')\n",
      "Model Accuracy using Random Forest Features:  0.9979684431502674\n"
     ]
    }
   ],
   "source": [
    "from sklearn.ensemble import RandomForestClassifier\n",
    "\n",
    "import pandas as pd\n",
    "\n",
    "# Load the dataset\n",
    "df = pd.read_csv('wins_encoded_data.csv')\n",
    "\n",
    "# Assuming y is the target variable (Diabetic)\n",
    "y = df['Diabetic']\n",
    "\n",
    "# Select features excluding the target\n",
    "features = df.drop(columns=['Diabetic'])\n",
    "\n",
    "\n",
    "# Define a random forest classifier\n",
    "rf = RandomForestClassifier(n_estimators=100, random_state=42)\n",
    "\n",
    "# Fit the model\n",
    "rf.fit(features, y)\n",
    "\n",
    "# Get feature importances\n",
    "feature_importances = pd.Series(rf.feature_importances_, index=features.columns).sort_values(ascending=False)\n",
    "print(\"Feature Importances using Random Forest:\\n\", feature_importances)\n",
    "\n",
    "# Select features with importance greater than a threshold (e.g., 0.01)\n",
    "selected_features_rf = feature_importances[feature_importances > 0.01].index\n",
    "print(\"Selected Features using Random Forest:\\n\", selected_features_rf)\n",
    "\n",
    "# Filter the dataset to keep only the selected features\n",
    "df_selected_rf = df[selected_features_rf.tolist() + ['Diabetic']]\n",
    "\n",
    "# Save the updated dataframe\n",
    "df_selected_rf.to_csv('df_selected_rf_features.csv', index=False)\n",
    "\n",
    "# Model training using selected features\n",
    "rf.fit(df_selected_rf.drop(columns='Diabetic'), y)\n",
    "accuracy = rf.score(df_selected_rf.drop(columns='Diabetic'), y)\n",
    "print(\"Model Accuracy using Random Forest Features: \", accuracy)\n"
   ]
  }
 ],
 "metadata": {
  "kernelspec": {
   "display_name": "Python [conda env:base] *",
   "language": "python",
   "name": "conda-base-py"
  },
  "language_info": {
   "codemirror_mode": {
    "name": "ipython",
    "version": 3
   },
   "file_extension": ".py",
   "mimetype": "text/x-python",
   "name": "python",
   "nbconvert_exporter": "python",
   "pygments_lexer": "ipython3",
   "version": "3.12.7"
  }
 },
 "nbformat": 4,
 "nbformat_minor": 5
}
