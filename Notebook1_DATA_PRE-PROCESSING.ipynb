{
 "cells": [
  {
   "cell_type": "markdown",
   "id": "2af9a5d5-d524-49b8-9769-765a1a2a5de5",
   "metadata": {},
   "source": [
    "## 📥 Importing Necessary Libraries\n",
    "\n",
    "We start by importing **Pandas**, a powerful library for data manipulation and analysis. It provides easy-to-use data structures like DataFrames and Series.\n"
   ]
  },
  {
   "cell_type": "code",
   "execution_count": 31,
   "id": "bf7975e7-6ac2-492d-9133-1de1209b46fb",
   "metadata": {},
   "outputs": [],
   "source": [
    "import pandas as pd"
   ]
  },
  {
   "cell_type": "markdown",
   "id": "ae63033a-68e2-491c-9a7a-2e81a846a253",
   "metadata": {},
   "source": [
    "## 📊 Loading the Dataset  \n",
    "\n",
    "We read the dataset from a CSV file using **pandas** and convert it into a **DataFrame** for easier data manipulation and analysis.  \n"
   ]
  },
  {
   "cell_type": "code",
   "execution_count": 34,
   "id": "68d8a292-bd01-4c0b-a053-155c5c09ca70",
   "metadata": {},
   "outputs": [
    {
     "data": {
      "text/html": [
       "<div>\n",
       "<style scoped>\n",
       "    .dataframe tbody tr th:only-of-type {\n",
       "        vertical-align: middle;\n",
       "    }\n",
       "\n",
       "    .dataframe tbody tr th {\n",
       "        vertical-align: top;\n",
       "    }\n",
       "\n",
       "    .dataframe thead th {\n",
       "        text-align: right;\n",
       "    }\n",
       "</style>\n",
       "<table border=\"1\" class=\"dataframe\">\n",
       "  <thead>\n",
       "    <tr style=\"text-align: right;\">\n",
       "      <th></th>\n",
       "      <th>HeartDisease</th>\n",
       "      <th>BMI</th>\n",
       "      <th>Smoking</th>\n",
       "      <th>AlcoholDrinking</th>\n",
       "      <th>Stroke</th>\n",
       "      <th>PhysicalHealth</th>\n",
       "      <th>MentalHealth</th>\n",
       "      <th>DiffWalking</th>\n",
       "      <th>Sex</th>\n",
       "      <th>AgeCategory</th>\n",
       "      <th>Race</th>\n",
       "      <th>Diabetic</th>\n",
       "      <th>PhysicalActivity</th>\n",
       "      <th>GenHealth</th>\n",
       "      <th>SleepTime</th>\n",
       "      <th>Asthma</th>\n",
       "      <th>KidneyDisease</th>\n",
       "      <th>SkinCancer</th>\n",
       "    </tr>\n",
       "  </thead>\n",
       "  <tbody>\n",
       "    <tr>\n",
       "      <th>0</th>\n",
       "      <td>No</td>\n",
       "      <td>24.56</td>\n",
       "      <td>Yes</td>\n",
       "      <td>No</td>\n",
       "      <td>No</td>\n",
       "      <td>20</td>\n",
       "      <td>15.0</td>\n",
       "      <td>No</td>\n",
       "      <td>Female</td>\n",
       "      <td>50-54</td>\n",
       "      <td>Hispanic</td>\n",
       "      <td>No</td>\n",
       "      <td>Yes</td>\n",
       "      <td>Good</td>\n",
       "      <td>6</td>\n",
       "      <td>No</td>\n",
       "      <td>No</td>\n",
       "      <td>No</td>\n",
       "    </tr>\n",
       "    <tr>\n",
       "      <th>1</th>\n",
       "      <td>No</td>\n",
       "      <td>30.23</td>\n",
       "      <td>No</td>\n",
       "      <td>No</td>\n",
       "      <td>No</td>\n",
       "      <td>0</td>\n",
       "      <td>0.0</td>\n",
       "      <td>No</td>\n",
       "      <td>Female</td>\n",
       "      <td>75-79</td>\n",
       "      <td>White</td>\n",
       "      <td>No</td>\n",
       "      <td>Yes</td>\n",
       "      <td>Excellent</td>\n",
       "      <td>7</td>\n",
       "      <td>No</td>\n",
       "      <td>No</td>\n",
       "      <td>No</td>\n",
       "    </tr>\n",
       "    <tr>\n",
       "      <th>2</th>\n",
       "      <td>No</td>\n",
       "      <td>29.12</td>\n",
       "      <td>Yes</td>\n",
       "      <td>No</td>\n",
       "      <td>No</td>\n",
       "      <td>0</td>\n",
       "      <td>0.0</td>\n",
       "      <td>No</td>\n",
       "      <td>Female</td>\n",
       "      <td>80 or older</td>\n",
       "      <td>White</td>\n",
       "      <td>No</td>\n",
       "      <td>Yes</td>\n",
       "      <td>Excellent</td>\n",
       "      <td>7</td>\n",
       "      <td>Yes</td>\n",
       "      <td>No</td>\n",
       "      <td>No</td>\n",
       "    </tr>\n",
       "    <tr>\n",
       "      <th>3</th>\n",
       "      <td>Yes</td>\n",
       "      <td>30.23</td>\n",
       "      <td>No</td>\n",
       "      <td>No</td>\n",
       "      <td>No</td>\n",
       "      <td>0</td>\n",
       "      <td>0.0</td>\n",
       "      <td>No</td>\n",
       "      <td>Female</td>\n",
       "      <td>80 or older</td>\n",
       "      <td>White</td>\n",
       "      <td>No</td>\n",
       "      <td>Yes</td>\n",
       "      <td>Very good</td>\n",
       "      <td>8</td>\n",
       "      <td>No</td>\n",
       "      <td>No</td>\n",
       "      <td>No</td>\n",
       "    </tr>\n",
       "    <tr>\n",
       "      <th>4</th>\n",
       "      <td>No</td>\n",
       "      <td>20.81</td>\n",
       "      <td>Yes</td>\n",
       "      <td>No</td>\n",
       "      <td>Yes</td>\n",
       "      <td>0</td>\n",
       "      <td>0.0</td>\n",
       "      <td>No</td>\n",
       "      <td>Male</td>\n",
       "      <td>65-69</td>\n",
       "      <td>White</td>\n",
       "      <td>No</td>\n",
       "      <td>Yes</td>\n",
       "      <td>Fair</td>\n",
       "      <td>8</td>\n",
       "      <td>No</td>\n",
       "      <td>No</td>\n",
       "      <td>No</td>\n",
       "    </tr>\n",
       "    <tr>\n",
       "      <th>...</th>\n",
       "      <td>...</td>\n",
       "      <td>...</td>\n",
       "      <td>...</td>\n",
       "      <td>...</td>\n",
       "      <td>...</td>\n",
       "      <td>...</td>\n",
       "      <td>...</td>\n",
       "      <td>...</td>\n",
       "      <td>...</td>\n",
       "      <td>...</td>\n",
       "      <td>...</td>\n",
       "      <td>...</td>\n",
       "      <td>...</td>\n",
       "      <td>...</td>\n",
       "      <td>...</td>\n",
       "      <td>...</td>\n",
       "      <td>...</td>\n",
       "      <td>...</td>\n",
       "    </tr>\n",
       "    <tr>\n",
       "      <th>59063</th>\n",
       "      <td>Yes</td>\n",
       "      <td>21.93</td>\n",
       "      <td>Yes</td>\n",
       "      <td>No</td>\n",
       "      <td>No</td>\n",
       "      <td>20</td>\n",
       "      <td>0.0</td>\n",
       "      <td>No</td>\n",
       "      <td>Female</td>\n",
       "      <td>70-74</td>\n",
       "      <td>White</td>\n",
       "      <td>Yes</td>\n",
       "      <td>Yes</td>\n",
       "      <td>Fair</td>\n",
       "      <td>4</td>\n",
       "      <td>Yes</td>\n",
       "      <td>No</td>\n",
       "      <td>Yes</td>\n",
       "    </tr>\n",
       "    <tr>\n",
       "      <th>59064</th>\n",
       "      <td>No</td>\n",
       "      <td>24.68</td>\n",
       "      <td>Yes</td>\n",
       "      <td>No</td>\n",
       "      <td>No</td>\n",
       "      <td>0</td>\n",
       "      <td>0.0</td>\n",
       "      <td>Yes</td>\n",
       "      <td>Male</td>\n",
       "      <td>80 or older</td>\n",
       "      <td>White</td>\n",
       "      <td>No</td>\n",
       "      <td>Yes</td>\n",
       "      <td>Very good</td>\n",
       "      <td>6</td>\n",
       "      <td>No</td>\n",
       "      <td>No</td>\n",
       "      <td>Yes</td>\n",
       "    </tr>\n",
       "    <tr>\n",
       "      <th>59065</th>\n",
       "      <td>Yes</td>\n",
       "      <td>20.38</td>\n",
       "      <td>No</td>\n",
       "      <td>No</td>\n",
       "      <td>No</td>\n",
       "      <td>5</td>\n",
       "      <td>4.0</td>\n",
       "      <td>No</td>\n",
       "      <td>Female</td>\n",
       "      <td>65-69</td>\n",
       "      <td>White</td>\n",
       "      <td>No</td>\n",
       "      <td>Yes</td>\n",
       "      <td>Good</td>\n",
       "      <td>7</td>\n",
       "      <td>No</td>\n",
       "      <td>No</td>\n",
       "      <td>No</td>\n",
       "    </tr>\n",
       "    <tr>\n",
       "      <th>59066</th>\n",
       "      <td>No</td>\n",
       "      <td>25.86</td>\n",
       "      <td>Yes</td>\n",
       "      <td>No</td>\n",
       "      <td>No</td>\n",
       "      <td>30</td>\n",
       "      <td>0.0</td>\n",
       "      <td>Yes</td>\n",
       "      <td>Male</td>\n",
       "      <td>65-69</td>\n",
       "      <td>White</td>\n",
       "      <td>No</td>\n",
       "      <td>No</td>\n",
       "      <td>Good</td>\n",
       "      <td>7</td>\n",
       "      <td>No</td>\n",
       "      <td>No</td>\n",
       "      <td>Yes</td>\n",
       "    </tr>\n",
       "    <tr>\n",
       "      <th>59067</th>\n",
       "      <td>Yes</td>\n",
       "      <td>26.50</td>\n",
       "      <td>No</td>\n",
       "      <td>No</td>\n",
       "      <td>No</td>\n",
       "      <td>0</td>\n",
       "      <td>0.0</td>\n",
       "      <td>No</td>\n",
       "      <td>Female</td>\n",
       "      <td>65-69</td>\n",
       "      <td>White</td>\n",
       "      <td>No</td>\n",
       "      <td>No</td>\n",
       "      <td>Very good</td>\n",
       "      <td>7</td>\n",
       "      <td>No</td>\n",
       "      <td>No</td>\n",
       "      <td>No</td>\n",
       "    </tr>\n",
       "  </tbody>\n",
       "</table>\n",
       "<p>59068 rows × 18 columns</p>\n",
       "</div>"
      ],
      "text/plain": [
       "      HeartDisease    BMI Smoking AlcoholDrinking Stroke  PhysicalHealth  \\\n",
       "0               No  24.56     Yes              No     No              20   \n",
       "1               No  30.23      No              No     No               0   \n",
       "2               No  29.12     Yes              No     No               0   \n",
       "3              Yes  30.23      No              No     No               0   \n",
       "4               No  20.81     Yes              No    Yes               0   \n",
       "...            ...    ...     ...             ...    ...             ...   \n",
       "59063          Yes  21.93     Yes              No     No              20   \n",
       "59064           No  24.68     Yes              No     No               0   \n",
       "59065          Yes  20.38      No              No     No               5   \n",
       "59066           No  25.86     Yes              No     No              30   \n",
       "59067          Yes  26.50      No              No     No               0   \n",
       "\n",
       "       MentalHealth DiffWalking     Sex  AgeCategory      Race Diabetic  \\\n",
       "0              15.0          No  Female        50-54  Hispanic       No   \n",
       "1               0.0          No  Female        75-79     White       No   \n",
       "2               0.0          No  Female  80 or older     White       No   \n",
       "3               0.0          No  Female  80 or older     White       No   \n",
       "4               0.0          No    Male        65-69     White       No   \n",
       "...             ...         ...     ...          ...       ...      ...   \n",
       "59063           0.0          No  Female        70-74     White      Yes   \n",
       "59064           0.0         Yes    Male  80 or older     White       No   \n",
       "59065           4.0          No  Female        65-69     White       No   \n",
       "59066           0.0         Yes    Male        65-69     White       No   \n",
       "59067           0.0          No  Female        65-69     White       No   \n",
       "\n",
       "      PhysicalActivity  GenHealth  SleepTime Asthma KidneyDisease SkinCancer  \n",
       "0                  Yes       Good          6     No            No         No  \n",
       "1                  Yes  Excellent          7     No            No         No  \n",
       "2                  Yes  Excellent          7    Yes            No         No  \n",
       "3                  Yes  Very good          8     No            No         No  \n",
       "4                  Yes       Fair          8     No            No         No  \n",
       "...                ...        ...        ...    ...           ...        ...  \n",
       "59063              Yes       Fair          4    Yes            No        Yes  \n",
       "59064              Yes  Very good          6     No            No        Yes  \n",
       "59065              Yes       Good          7     No            No         No  \n",
       "59066               No       Good          7     No            No        Yes  \n",
       "59067               No  Very good          7     No            No         No  \n",
       "\n",
       "[59068 rows x 18 columns]"
      ]
     },
     "execution_count": 34,
     "metadata": {},
     "output_type": "execute_result"
    }
   ],
   "source": [
    "#reading data from csv and converting to dataframe\n",
    "df = pd.read_csv(\"data.csv\")\n",
    "df"
   ]
  },
  {
   "cell_type": "markdown",
   "id": "fdfa4eff-2149-4814-aa4b-3ffbb96e9cc7",
   "metadata": {},
   "source": [
    "## 📏 Checking Dataset Dimensions  \n",
    "\n",
    "To understand the size of our dataset, we use the `.shape` attribute. This returns a tuple representing the **number of rows and columns** in the DataFrame.  \n"
   ]
  },
  {
   "cell_type": "code",
   "execution_count": 37,
   "id": "c096d6d0-1319-4567-89b7-3befa3582599",
   "metadata": {},
   "outputs": [
    {
     "name": "stdout",
     "output_type": "stream",
     "text": [
      "Shape of the DataFrame (rows, columns): (59068, 18)\n"
     ]
    }
   ],
   "source": [
    "#Checking dimensions (rows and columns)\n",
    "print(\"Shape of the DataFrame (rows, columns):\", df.shape)"
   ]
  },
  {
   "cell_type": "markdown",
   "id": "feb585a3-466b-4ef3-9fef-9c965e81720b",
   "metadata": {},
   "source": [
    "## 📝 Checking Data Types  \n",
    "\n",
    "Understanding the **data types** of each column helps in identifying numerical, categorical, and textual data. This step is crucial for preprocessing and feature engineering.  \n"
   ]
  },
  {
   "cell_type": "code",
   "execution_count": 40,
   "id": "6fa46e87-74a4-45a8-a778-254c97bf5a86",
   "metadata": {},
   "outputs": [
    {
     "name": "stdout",
     "output_type": "stream",
     "text": [
      "\n",
      "Data Types of each column:\n",
      " HeartDisease         object\n",
      "BMI                 float64\n",
      "Smoking              object\n",
      "AlcoholDrinking      object\n",
      "Stroke               object\n",
      "PhysicalHealth        int64\n",
      "MentalHealth        float64\n",
      "DiffWalking          object\n",
      "Sex                  object\n",
      "AgeCategory          object\n",
      "Race                 object\n",
      "Diabetic             object\n",
      "PhysicalActivity     object\n",
      "GenHealth            object\n",
      "SleepTime             int64\n",
      "Asthma               object\n",
      "KidneyDisease        object\n",
      "SkinCancer           object\n",
      "dtype: object\n"
     ]
    }
   ],
   "source": [
    "# Data types and sample data\n",
    "print(\"\\nData Types of each column:\\n\", df.dtypes)"
   ]
  },
  {
   "cell_type": "markdown",
   "id": "9541e70f-52c6-4db9-91bf-f63c2d53d290",
   "metadata": {},
   "source": [
    "## 🔍 Viewing Sample Data  \n",
    "\n",
    "To get a quick overview of the dataset, we display the **first 5 rows** using the `.head()` function. This helps us understand the structure, column names, and sample values.  \n"
   ]
  },
  {
   "cell_type": "code",
   "execution_count": 43,
   "id": "05aefc3d-e6f0-4fd1-a2de-1a29d2c20d8e",
   "metadata": {},
   "outputs": [
    {
     "name": "stdout",
     "output_type": "stream",
     "text": [
      "\n",
      "First 5 rows of the DataFrame:\n",
      "   HeartDisease    BMI Smoking AlcoholDrinking Stroke  PhysicalHealth  \\\n",
      "0           No  24.56     Yes              No     No              20   \n",
      "1           No  30.23      No              No     No               0   \n",
      "2           No  29.12     Yes              No     No               0   \n",
      "3          Yes  30.23      No              No     No               0   \n",
      "4           No  20.81     Yes              No    Yes               0   \n",
      "\n",
      "   MentalHealth DiffWalking     Sex  AgeCategory      Race Diabetic  \\\n",
      "0          15.0          No  Female        50-54  Hispanic       No   \n",
      "1           0.0          No  Female        75-79     White       No   \n",
      "2           0.0          No  Female  80 or older     White       No   \n",
      "3           0.0          No  Female  80 or older     White       No   \n",
      "4           0.0          No    Male        65-69     White       No   \n",
      "\n",
      "  PhysicalActivity  GenHealth  SleepTime Asthma KidneyDisease SkinCancer  \n",
      "0              Yes       Good          6     No            No         No  \n",
      "1              Yes  Excellent          7     No            No         No  \n",
      "2              Yes  Excellent          7    Yes            No         No  \n",
      "3              Yes  Very good          8     No            No         No  \n",
      "4              Yes       Fair          8     No            No         No  \n"
     ]
    }
   ],
   "source": [
    "# Sample data\n",
    "print(\"\\nFirst 5 rows of the DataFrame:\\n\", df.head())"
   ]
  },
  {
   "cell_type": "markdown",
   "id": "26a66769-a754-4893-9362-f0bda7c6d119",
   "metadata": {},
   "source": [
    "## ⚠️ Identifying Missing Values  \n",
    "\n",
    "Missing values can impact the performance of a machine learning model. To check for missing data, we use the `.isnull().sum()` method, which counts the number of missing values in each column.  \n"
   ]
  },
  {
   "cell_type": "code",
   "execution_count": 46,
   "id": "083e8ce8-9851-4545-8215-601f004307ba",
   "metadata": {},
   "outputs": [
    {
     "name": "stdout",
     "output_type": "stream",
     "text": [
      "\n",
      "Missing values in each column:\n",
      " HeartDisease         0\n",
      "BMI                  0\n",
      "Smoking              0\n",
      "AlcoholDrinking      0\n",
      "Stroke               0\n",
      "PhysicalHealth       0\n",
      "MentalHealth        28\n",
      "DiffWalking          0\n",
      "Sex                  0\n",
      "AgeCategory          0\n",
      "Race                 0\n",
      "Diabetic             0\n",
      "PhysicalActivity     0\n",
      "GenHealth            9\n",
      "SleepTime            0\n",
      "Asthma               0\n",
      "KidneyDisease        0\n",
      "SkinCancer           0\n",
      "dtype: int64\n"
     ]
    }
   ],
   "source": [
    "# Identify missing values\n",
    "print(\"\\nMissing values in each column:\\n\", df.isnull().sum())"
   ]
  },
  {
   "cell_type": "markdown",
   "id": "5f60aabc-3012-48fa-929c-17bd6ab28ea1",
   "metadata": {},
   "source": [
    "## 🔄 Identifying Duplicate Rows  \n",
    "\n",
    "Duplicate rows can **skew analysis** and **affect model performance**, so it's essential to check for them. The `.duplicated().sum()` method counts the number of duplicate rows in the dataset.  \n"
   ]
  },
  {
   "cell_type": "code",
   "execution_count": 49,
   "id": "417904b4-3988-4ddd-8a68-acbf048f6e73",
   "metadata": {},
   "outputs": [
    {
     "name": "stdout",
     "output_type": "stream",
     "text": [
      "\n",
      "Number of duplicate rows: 381\n"
     ]
    }
   ],
   "source": [
    "# Identifying duplicates\n",
    "print(\"\\nNumber of duplicate rows:\", df.duplicated().sum())"
   ]
  },
  {
   "cell_type": "markdown",
   "id": "aaed3591-221b-4734-99cd-c275641543a5",
   "metadata": {},
   "source": [
    "## 🔎 Checking for Inconsistent Entries  \n",
    "\n",
    "To detect **potential inconsistencies** in categorical columns, we examine the **unique values** in each column. This helps identify anomalies such as typos, inconsistent formatting, or unexpected values.  \n"
   ]
  },
  {
   "cell_type": "code",
   "execution_count": 52,
   "id": "ffcd2a53-a28b-42a0-8257-efe5a3f8282b",
   "metadata": {},
   "outputs": [
    {
     "name": "stdout",
     "output_type": "stream",
     "text": [
      "\n",
      "Unique values in each column:\n",
      "HeartDisease:\t\t ['No' 'Yes']...\n",
      "BMI:\t\t [24.56 30.23 29.12 20.81 25.06 24.39 19.74 23.03 21.93 21.41]...\n",
      "Smoking:\t\t ['Yes' 'No']...\n",
      "AlcoholDrinking:\t\t ['No' 'Yes']...\n",
      "Stroke:\t\t ['No' 'Yes']...\n",
      "PhysicalHealth:\t\t [20  0  5 30  4  2 10  1  3 14]...\n",
      "MentalHealth:\t\t [15.  0.  2. 29.  3. 30.  6.  5. 10. 25.]...\n",
      "DiffWalking:\t\t ['No' 'Yes']...\n",
      "Sex:\t\t ['Female' 'Male']...\n",
      "AgeCategory:\t\t ['50-54' '75-79' '80 or older' '65-69' '60-64' '40-44' '18-24' '25-29'\n",
      " '70-74' '45-49']...\n",
      "Race:\t\t ['Hispanic' 'White' 'American Indian/Alaskan Native' 'Asian' 'Other'\n",
      " 'Black']...\n",
      "Diabetic:\t\t ['No' 'No, borderline diabetes' 'Yes' 'Yes (during pregnancy)']...\n",
      "PhysicalActivity:\t\t ['Yes' 'No']...\n",
      "GenHealth:\t\t ['Good' 'Excellent' 'Very good' 'Fair' 'Poor' nan]...\n",
      "SleepTime:\t\t [ 6  7  8  4 10  9  5 11  3 12]...\n",
      "Asthma:\t\t ['No' 'Yes']...\n",
      "KidneyDisease:\t\t ['No' 'Yes']...\n",
      "SkinCancer:\t\t ['No' 'Yes']...\n"
     ]
    }
   ],
   "source": [
    "#Checking for inconsistent entries (e.g., unique values in categorical columns)\n",
    "print(\"\\nUnique values in each column:\")\n",
    "for column in df.columns:\n",
    "    print(f\"{column}:\\t\\t {df[column].unique()[:10]}...\")  # Show first 10 unique values for each column\n"
   ]
  },
  {
   "cell_type": "markdown",
   "id": "5274e944-3849-4640-b43c-d3a4ca6e332b",
   "metadata": {},
   "source": [
    "_Displays the first 10 unique values for each column to check for any inconsistencies in categorical data_"
   ]
  },
  {
   "cell_type": "markdown",
   "id": "7b262254-093f-42e4-b1f6-09417ac3db3a",
   "metadata": {},
   "source": [
    "## 🧹 Cleaning the 'GenHealth' Column  \n",
    "\n",
    "Inconsistent formatting in categorical data can lead to issues in analysis. To ensure uniformity, we:  \n",
    "- Remove **leading and trailing spaces** using `.strip()`.  \n",
    "- Standardize text to **title case** using `.title()`.  \n"
   ]
  },
  {
   "cell_type": "code",
   "execution_count": 56,
   "id": "a897e0e4-2351-4103-a560-577d4de5b127",
   "metadata": {},
   "outputs": [
    {
     "name": "stdout",
     "output_type": "stream",
     "text": [
      "['Good' 'Excellent' 'Very Good' 'Fair' 'Poor' nan]\n"
     ]
    }
   ],
   "source": [
    "# Clean 'GenHealth' column to remove any leading/trailing spaces and handle case variations\n",
    "df['GenHealth'] = df['GenHealth'].str.strip().str.title()\n",
    "print(df['GenHealth'].unique())\n"
   ]
  },
  {
   "cell_type": "markdown",
   "id": "dd60b8a4-1bc1-4723-81d8-f00f7f05976d",
   "metadata": {},
   "source": [
    "## 🛠 Handling Missing Values  \n",
    "\n",
    "Missing values can negatively impact data quality and model performance. This function **identifies and fills missing values** using appropriate techniques for numerical and categorical columns.  \n",
    "\n",
    "### 📌 Steps:\n",
    "1. **Check for missing values** in each column.  \n",
    "2. **Separate numerical and categorical columns** for targeted handling.  \n",
    "3. **Fill missing numerical values** with the **median** (to reduce the impact of outliers).  \n",
    "4. **Fill missing categorical values** with the **most frequent value (mode)**.  \n",
    "5. **Save the cleaned dataset** for further processing.  "
   ]
  },
  {
   "cell_type": "code",
   "execution_count": 59,
   "id": "649a48b8-adb9-438c-9ad3-9c351da50064",
   "metadata": {},
   "outputs": [
    {
     "name": "stdout",
     "output_type": "stream",
     "text": [
      "Initil Missing Values:\n",
      "MentalHealth    28\n",
      "GenHealth        9\n",
      "dtype: int64\n",
      "--------------------------------------------------\n",
      "Handling missing values for numerical column: MentalHealth\n",
      "Missing count before: 28\n",
      "Missing count after: 0\n",
      "\n",
      "--------------------------------------------------\n",
      "Handling missing values for categorical column: GenHealth\n",
      "Missing count before: 9\n",
      "Missing count after: 0\n",
      "\n",
      "--------------------------------------------------\n"
     ]
    }
   ],
   "source": [
    "import pandas as pd\n",
    "import numpy as np\n",
    "\n",
    "def handle_missing_values(df):\n",
    "    # Initial Missing Values Summary\n",
    "    print(\"Initil Missing Values:\")\n",
    "    missing_summary = df.isna().sum()\n",
    "    print(missing_summary[missing_summary > 0])\n",
    "    print(\"-\" * 50)\n",
    "\n",
    "    # Separate numerical and categorical columns\n",
    "    num_cols = df.select_dtypes(include=[np.number]).columns\n",
    "    cat_cols = df.select_dtypes(include=['object', 'category']).columns\n",
    "    \n",
    "    # Handle missing values in numerical columns\n",
    "    for col in num_cols:\n",
    "        if df[col].isna().sum() > 0:\n",
    "            print(f\"Handling missing values for numerical column: {col}\")\n",
    "            print(f\"Missing count before: {df[col].isna().sum()}\")\n",
    "            # Replace missing values with the column median\n",
    "            df[col] = df[col].fillna(df[col].median())\n",
    "            print(f\"Missing count after: {df[col].isna().sum()}\\n\")\n",
    "            print(\"-\" * 50)\n",
    "    \n",
    "    # Handle missing values in categorical columns\n",
    "    for col in cat_cols:\n",
    "        if df[col].isna().sum() > 0:\n",
    "            print(f\"Handling missing values for categorical column: {col}\")\n",
    "            print(f\"Missing count before: {df[col].isna().sum()}\")\n",
    "            # Replace missing values with the column mode (most frequent value)\n",
    "            df[col] = df[col].fillna(df[col].mode()[0])\n",
    "            print(f\"Missing count after: {df[col].isna().sum()}\\n\")\n",
    "            print(\"-\" * 50)\n",
    "    \n",
    "    return df\n",
    "\n",
    "\n",
    "file_path = \"data.csv\"  # Replace with your file path\n",
    "df = pd.read_csv(file_path)\n",
    "\n",
    "# Handle missing values\n",
    "df_cleaned = handle_missing_values(df)\n",
    "\n",
    "# Optional: Save the cleaned data if needed\n",
    "df_cleaned.to_csv(\"data_cleaned.csv\", index=False)\n"
   ]
  },
  {
   "cell_type": "markdown",
   "id": "e74b807d-30fc-4670-be7b-d48fa2276fb6",
   "metadata": {},
   "source": [
    "## 🔄 Optimizing Data Types: Converting Object to Category  \n",
    "\n",
    "To improve **memory efficiency** and **processing speed**, we convert all columns with the `object` data type to **category**. This is especially useful for categorical features with a limited number of unique values.  \n",
    "\n",
    "### 📌 Benefits of Using `category`:  \n",
    "✅ **Reduces memory usage** (as categorical data takes up less space than object types).  \n",
    "✅ **Speeds up operations** like sorting and comparisons.  \n",
    "✅ **Enhances performance** in machine learning models.  \n"
   ]
  },
  {
   "cell_type": "code",
   "execution_count": 62,
   "id": "4e6472f9-14d0-4d93-b7be-f4ecc315fed9",
   "metadata": {},
   "outputs": [
    {
     "name": "stdout",
     "output_type": "stream",
     "text": [
      "HeartDisease        category\n",
      "BMI                  float64\n",
      "Smoking             category\n",
      "AlcoholDrinking     category\n",
      "Stroke              category\n",
      "PhysicalHealth         int64\n",
      "MentalHealth         float64\n",
      "DiffWalking         category\n",
      "Sex                 category\n",
      "AgeCategory         category\n",
      "Race                category\n",
      "Diabetic            category\n",
      "PhysicalActivity    category\n",
      "GenHealth           category\n",
      "SleepTime              int64\n",
      "Asthma              category\n",
      "KidneyDisease       category\n",
      "SkinCancer          category\n",
      "dtype: object\n"
     ]
    }
   ],
   "source": [
    "# Converting all 'object' columns to 'category' type\n",
    "for column in df_cleaned.select_dtypes(include=['object']).columns:\n",
    "    df_cleaned[column] = df_cleaned[column].astype('category')\n",
    "\n",
    "# Print the data types after conversion\n",
    "print(df_cleaned.dtypes)"
   ]
  },
  {
   "cell_type": "markdown",
   "id": "b65c050b-0fce-446a-aeca-b53516fcb076",
   "metadata": {},
   "source": [
    "## 🧠 Standardizing the 'MentalHealth' and 'PhysicalHealth' Columns\n",
    "\n",
    "To ensure consistency in numerical data, we:  \n",
    "1. **Round values** to the nearest integer using `.round()`.  \n",
    "2. **Convert the column to integer type** using `.astype(int)`.  \n",
    "\n",
    "This is useful when the **MentalHealth** column should contain **discrete whole numbers** rather than floating-point values.  \n"
   ]
  },
  {
   "cell_type": "code",
   "execution_count": 65,
   "id": "d4418db9-0956-433f-9370-ddce19d20e22",
   "metadata": {},
   "outputs": [
    {
     "data": {
      "text/plain": [
       "0        15\n",
       "1         0\n",
       "2         0\n",
       "3         0\n",
       "4         0\n",
       "         ..\n",
       "59063     0\n",
       "59064     0\n",
       "59065     4\n",
       "59066     0\n",
       "59067     0\n",
       "Name: MentalHealth, Length: 59068, dtype: int32"
      ]
     },
     "execution_count": 65,
     "metadata": {},
     "output_type": "execute_result"
    }
   ],
   "source": [
    "df_cleaned['MentalHealth'] = df_cleaned['MentalHealth'].round().astype(int)\n",
    "df_cleaned['MentalHealth'] "
   ]
  },
  {
   "cell_type": "code",
   "execution_count": 67,
   "id": "c2d0478b-00e1-4bf6-8048-45d1b2843005",
   "metadata": {},
   "outputs": [],
   "source": [
    "df_cleaned['PhysicalHealth'] = df_cleaned['PhysicalHealth'].round().astype(int)"
   ]
  },
  {
   "cell_type": "markdown",
   "id": "98f4cd75-3274-4446-8cda-961659f63704",
   "metadata": {},
   "source": [
    "## 🔄 Converting Categorical Responses to Boolean  \n",
    "\n",
    "To enhance **data consistency and efficiency**, we convert **'Yes'/'No'** responses into **True/False** values.  \n",
    "\n",
    "### 📌 Why Use Boolean?  \n",
    "✅ **Reduces memory usage** (Booleans take up less space than strings).  \n",
    "✅ **Improves performance** in comparisons and logical operations.  \n",
    "✅ **Enhances compatibility** with machine learning models.  \n",
    "\n",
    "### 📌 Steps:  \n",
    "1. **Use `.map({'Yes': True, 'No': False})`** to transform values.  \n",
    "2. **Explicitly convert the column to Boolean** using `.astype(bool)`. "
   ]
  },
  {
   "cell_type": "code",
   "execution_count": 70,
   "id": "7323d7c7-0cff-48dc-85bb-1c00172e7263",
   "metadata": {},
   "outputs": [
    {
     "name": "stdout",
     "output_type": "stream",
     "text": [
      "HeartDisease            bool\n",
      "BMI                  float64\n",
      "Smoking                 bool\n",
      "AlcoholDrinking         bool\n",
      "Stroke                  bool\n",
      "PhysicalHealth         int32\n",
      "MentalHealth           int32\n",
      "DiffWalking             bool\n",
      "Sex                 category\n",
      "AgeCategory         category\n",
      "Race                category\n",
      "Diabetic            category\n",
      "PhysicalActivity        bool\n",
      "GenHealth           category\n",
      "SleepTime              int64\n",
      "Asthma                  bool\n",
      "KidneyDisease           bool\n",
      "SkinCancer              bool\n",
      "dtype: object\n"
     ]
    }
   ],
   "source": [
    "# Convert 'Yes'/'No' to True/False using map and then explicitly convert the column type to boolean\n",
    "df_cleaned['HeartDisease'] = df_cleaned['HeartDisease'].map({'Yes': True, 'No': False}).astype(bool)\n",
    "df_cleaned['Smoking'] = df_cleaned['Smoking'].map({'Yes': True, 'No': False}).astype(bool)\n",
    "df_cleaned['AlcoholDrinking'] = df_cleaned['AlcoholDrinking'].map({'Yes': True, 'No': False}).astype(bool)\n",
    "df_cleaned['Stroke'] = df_cleaned['Stroke'].map({'Yes': True, 'No': False}).astype(bool)\n",
    "df_cleaned['DiffWalking'] = df_cleaned['DiffWalking'].map({'Yes': True, 'No': False}).astype(bool)\n",
    "df_cleaned['PhysicalActivity'] = df_cleaned['PhysicalActivity'].map({'Yes': True, 'No': False}).astype(bool)\n",
    "df_cleaned['Asthma'] = df_cleaned['Asthma'].map({'Yes': True, 'No': False}).astype(bool)\n",
    "df_cleaned['KidneyDisease'] = df_cleaned['KidneyDisease'].map({'Yes': True, 'No': False}).astype(bool)\n",
    "df_cleaned['SkinCancer'] = df_cleaned['SkinCancer'].map({'Yes': True, 'No': False}).astype(bool)\n",
    "\n",
    "# Check the data types again\n",
    "print(df_cleaned.dtypes)\n"
   ]
  },
  {
   "attachments": {
    "1327bd4c-247f-4536-9fc7-2e56e8766ccf.png": {
     "image/png": "[encoded data removed]"
    },
    "7c2ebaff-ea98-4a30-b267-04d515d7c80b.png": {
     "image/png": "[encoded data removed]"
    }
   },
   "cell_type": "markdown",
   "id": "8eec7da9-97e9-4aad-9699-ee63c3e5368c",
   "metadata": {},
   "source": [
    "## 📊 Detecting Outliers using IQR & Z-Score  \n",
    "\n",
    "Outliers can significantly impact machine learning models, leading to **skewed results** or **poor generalization**. We use **two statistical methods** to identify outliers in numerical columns:\n",
    "\n",
    "### 🔹 1. **Interquartile Range (IQR) Method**  \n",
    "- Computes the **first quartile (Q1)** and **third quartile (Q3)**.  \n",
    "- Defines outliers as values **outside** the range:  \n",
    "  ![image.png](attachment:7c2ebaff-ea98-4a30-b267-04d515d7c80b.png)\n",
    "- **More robust** against extreme values.\n",
    "\n",
    "### 🔹 2. **Z-Score Method**  \n",
    "- Computes the **Z-score** for each value:  \n",
    "  ![image.png](attachment:1327bd4c-247f-4536-9fc7-2e56e8766ccf.png)\n",
    "  where **μ = mean** and **σ = standard deviation**.\n",
    "- Defines outliers as values with **Z-score > 3** (default threshold).  \n",
    "- **More sensitive** to small deviations.\n"
   ]
  },
  {
   "cell_type": "code",
   "execution_count": 73,
   "id": "75f2d0ce-cab3-4ed8-a99e-0892844bf182",
   "metadata": {},
   "outputs": [
    {
     "name": "stdout",
     "output_type": "stream",
     "text": [
      "Number of outliers detected by IQR method:\n",
      "{'BMI': 1799, 'PhysicalHealth': 10231, 'MentalHealth': 8168, 'SleepTime': 1225}\n",
      "\n",
      "Number of outliers detected by Z-score method:\n",
      "{'BMI': 742, 'PhysicalHealth': 0, 'MentalHealth': 3791, 'SleepTime': 1225}\n"
     ]
    }
   ],
   "source": [
    "\n",
    "from scipy import stats\n",
    "\n",
    "# Function to count outliers using IQR method\n",
    "def count_outliers_iqr(df_cleaned):\n",
    "    outlier_counts_iqr = {}\n",
    "    for column in df_cleaned.select_dtypes(include=[np.number]).columns:\n",
    "        Q1 = df_cleaned[column].quantile(0.25)\n",
    "        Q3 = df_cleaned[column].quantile(0.75)\n",
    "        IQR = Q3 - Q1\n",
    "        lower_bound = Q1 - 1.5 * IQR\n",
    "        upper_bound = Q3 + 1.5 * IQR\n",
    "        outliers = df_cleaned[(df_cleaned[column] < lower_bound) | (df_cleaned[column] > upper_bound)]\n",
    "        outlier_counts_iqr[column] = outliers.shape[0]  # Number of outliers\n",
    "    return outlier_counts_iqr\n",
    "\n",
    "# Function to count outliers using Z-score method\n",
    "def count_outliers_zscore(df_cleaned, threshold=3):\n",
    "    outlier_counts_zscore = {}\n",
    "    for column in df_cleaned.select_dtypes(include=[np.number]).columns:\n",
    "        z_scores = np.abs(stats.zscore(df_cleaned[column]))\n",
    "        outliers = df_cleaned[z_scores > threshold]\n",
    "        outlier_counts_zscore[column] = outliers.shape[0]  # Number of outliers\n",
    "    return outlier_counts_zscore\n",
    "\n",
    "# Assuming `df_cleaned` is your cleaned DataFrame\n",
    "# Count outliers using IQR method\n",
    "outlier_counts_iqr = count_outliers_iqr(df_cleaned)\n",
    "\n",
    "# Count outliers using Z-score method\n",
    "outlier_counts_zscore = count_outliers_zscore(df_cleaned)\n",
    "\n",
    "# Display the number of outliers for each column\n",
    "print(\"Number of outliers detected by IQR method:\")\n",
    "print(outlier_counts_iqr)\n",
    "\n",
    "print(\"\\nNumber of outliers detected by Z-score method:\")\n",
    "print(outlier_counts_zscore)\n"
   ]
  },
  {
   "attachments": {
    "b4bb0802-3cc6-4458-8bf9-37517b146a00.png": {
     "image/png": "[encoded data removed]"
    }
   },
   "cell_type": "markdown",
   "id": "4a7f0acc-1c45-44a5-9c9d-96f9634ce623",
   "metadata": {},
   "source": [
    "## ✨ Handling Outliers with IQR-Based Winsorization  \n",
    "\n",
    "After detecting outliers, we apply **Winsorization** to **limit extreme values** and make the dataset more robust. Here’s how we **handle outliers** using the **Interquartile Range (IQR) method** and visualize the impact:\n",
    "\n",
    "### 📌 Steps to Handle Outliers  \n",
    "\n",
    "1. **Identify Outliers Using IQR**  \n",
    "   - Compute **Q1 (25th percentile)** and **Q3 (75th percentile)**.  \n",
    "   - Calculate the **IQR (Q3 - Q1)**.  \n",
    "   - Define the lower and upper bounds:  \n",
    "     ![image.png](attachment:b4bb0802-3cc6-4458-8bf9-37517b146a00.png)\n",
    "   - **Values outside this range are considered outliers.**\n",
    "\n",
    "2. **Apply Winsorization (Capping Extreme Values)**  \n",
    "   - **Clamp outliers** to the nearest boundary (lower or upper bound).  \n",
    "   - This preserves the **overall distribution** while reducing the impact of extreme values.\n",
    "\n",
    "3. **Visualize the Effect with Boxplots**  \n",
    "   - Compare **original vs. Winsorized data** using **Seaborn boxplots**.  \n",
    "   - Helps in understanding how Winsorization affects **outlier distribution**.\n",
    "\n",
    "---\n",
    "\n",
    "### 📊 Winsorizing Selected Features  \n",
    "\n",
    "We apply Winsorization to the following **numerical columns**:  \n",
    "\n",
    "✅ **BMI**  \n",
    "✅ **PhysicalHealth**  \n",
    "✅ **MentalHealth**  \n",
    "✅ **SleepTime**  \n",
    "\n",
    "Each feature undergoes **outlier treatment and visualization** to ensure **data integrity**\n",
    "After processing, the **updated dataset** is **saved as a CSV file**:  "
   ]
  },
  {
   "cell_type": "code",
   "execution_count": 75,
   "id": "5d1594c2-51da-46ec-9bb1-4b2cbcd84f57",
   "metadata": {},
   "outputs": [
    {
     "data": {
      "image/png": "[encoded data removed]",
      "text/plain": [
       "<Figure size 1200x600 with 2 Axes>"
      ]
     },
     "metadata": {},
     "output_type": "display_data"
    },
    {
     "data": {
      "image/png": "[encoded data removed]",
      "text/plain": [
       "<Figure size 1200x600 with 2 Axes>"
      ]
     },
     "metadata": {},
     "output_type": "display_data"
    },
    {
     "data": {
      "image/png": "[encoded data removed]",
      "text/plain": [
       "<Figure size 1200x600 with 2 Axes>"
      ]
     },
     "metadata": {},
     "output_type": "display_data"
    },
    {
     "data": {
      "image/png": "[encoded data removed]",
      "text/plain": [
       "<Figure size 1200x600 with 2 Axes>"
      ]
     },
     "metadata": {},
     "output_type": "display_data"
    }
   ],
   "source": [
    "import pandas as pd\n",
    "import numpy as np\n",
    "import seaborn as sns\n",
    "import matplotlib.pyplot as plt\n",
    "\n",
    "# Set Seaborn theme and palette\n",
    "sns.set_theme(style=\"ticks\", palette=\"RdPu\", rc={\"axes.grid\": False})  # Remove grid lines\n",
    "\n",
    "# Function to apply IQR-based Winsorization and display boxplot\n",
    "def handle_outliers_and_plot(df_cleaned, column_name):\n",
    "    # Step 1: Identify Outliers using IQR\n",
    "    Q1 = df_cleaned[column_name].quantile(0.25)\n",
    "    Q3 = df_cleaned[column_name].quantile(0.75)\n",
    "    iqr_value = Q3 - Q1\n",
    "    lower_bound_iqr = Q1 - 1.5 * iqr_value\n",
    "    upper_bound_iqr = Q3 + 1.5 * iqr_value\n",
    "    \n",
    "    # Apply IQR-based Winsorization\n",
    "    df_winsorized = df_cleaned.copy()\n",
    "    df_winsorized[column_name] = np.clip(df_winsorized[column_name], lower_bound_iqr, upper_bound_iqr)\n",
    "    \n",
    "    # Step 2: Plot Boxplot for Original and Winsorized Data\n",
    "    plt.figure(figsize=(12, 6))\n",
    "    \n",
    "    # Original data boxplot\n",
    "    plt.subplot(1, 2, 1)\n",
    "    sns.boxplot(x=df_cleaned[column_name], color=sns.color_palette(\"RdPu\", 4)[2])  # Slightly darker color\n",
    "    plt.title(f'Original {column_name} Data')\n",
    "\n",
    "    # Winsorized data boxplot\n",
    "    plt.subplot(1, 2, 2)\n",
    "    sns.boxplot(x=df_winsorized[column_name], color=sns.color_palette(\"RdPu\", 4)[3])  # Slightly darker color\n",
    "    plt.title(f'{column_name} Data After Winsorization')\n",
    "    \n",
    "    plt.tight_layout()\n",
    "    plt.show()\n",
    "    \n",
    "    # Return the winsorized data\n",
    "    return df_winsorized[column_name]\n",
    "\n",
    "# Apply outlier handling and store Winsorized columns\n",
    "df_cleaned['BMI'] = handle_outliers_and_plot(df_cleaned, 'BMI')\n",
    "df_cleaned['PhysicalHealth'] = handle_outliers_and_plot(df_cleaned, 'PhysicalHealth')\n",
    "df_cleaned['MentalHealth'] = handle_outliers_and_plot(df_cleaned, 'MentalHealth')\n",
    "df_cleaned['SleepTime'] = handle_outliers_and_plot(df_cleaned, 'SleepTime')\n",
    "\n",
    "# Save the updated DataFrame with Winsorized values\n",
    "df_cleaned.to_csv('winsorized_data.csv', index=False)\n",
    "\n",
    "# Now, df_cleaned includes the Winsorized columns, and they are saved to 'winsorized_data.csv'\n"
   ]
  },
  {
   "attachments": {
    "5413e60e-e830-42fe-b691-acae4d9724db.png": {
     "image/png": "[encoded data removed]"
    }
   },
   "cell_type": "markdown",
   "id": "0abf4b68-4cd4-4766-a6a2-7a3cc76f6e09",
   "metadata": {},
   "source": [
    "## 🔄 Feature Scaling using Min-Max Normalization  \n",
    "\n",
    "After handling outliers, we apply **Min-Max Scaling** to transform numerical features into a common scale, improving model performance.\n",
    "\n",
    "### 📌 **Why Min-Max Scaling?**  \n",
    "- **Preserves relationships** between values.  \n",
    "- Scales features to a **fixed range** \\[0,1]\\, preventing dominance of larger values.  \n",
    "- Beneficial for algorithms sensitive to magnitude differences, like **KNN, Neural Networks, and SVMs**.\n",
    "\n",
    "### 🔹 **Formula for Min-Max Scaling**  \n",
    "![image.png](attachment:5413e60e-e830-42fe-b691-acae4d9724db.png)"
   ]
  },
  {
   "cell_type": "code",
   "execution_count": 78,
   "id": "a20f175a-4049-4ac1-8b0a-865b687305ea",
   "metadata": {},
   "outputs": [
    {
     "name": "stdout",
     "output_type": "stream",
     "text": [
      "        BMI  PhysicalHealth  MentalHealth  SleepTime\n",
      "0  0.385333             1.0           1.0      0.375\n",
      "1  0.574333             0.0           0.0      0.500\n",
      "2  0.537333             0.0           0.0      0.500\n",
      "3  0.574333             0.0           0.0      0.625\n",
      "4  0.260333             0.0           0.0      0.625\n"
     ]
    }
   ],
   "source": [
    "from sklearn.preprocessing import MinMaxScaler\n",
    "\n",
    "# Initialize the MinMaxScaler\n",
    "scaler = MinMaxScaler()\n",
    "\n",
    "# List of numerical columns to scale\n",
    "numerical_columns = ['BMI', 'PhysicalHealth', 'MentalHealth', 'SleepTime']\n",
    "\n",
    "# Apply Min-Max scaling to the numerical columns\n",
    "df[numerical_columns] = scaler.fit_transform(df[numerical_columns])\n",
    "\n",
    "# Check the scaled result\n",
    "print(df[numerical_columns].head())\n",
    "# Save the dataframe to a new CSV file 'normalized.csv' with only the updated columns\n",
    "df_cleaned.to_csv('normalized.csv', index=False)\n"
   ]
  },
  {
   "attachments": {
    "6afd0641-f353-4d1f-87f9-d5722a0f42cf.png": {
     "image/png": "[encoded data removed]"
    }
   },
   "cell_type": "markdown",
   "id": "4cf5fc39-0abe-4f13-afdc-0b96028ab3ea",
   "metadata": {},
   "source": [
    "## 🔄 Feature Scaling using Standardization (Z-Score Normalization)  \n",
    "\n",
    "After handling outliers, we apply **Standardization (Z-Score Normalization)** to ensure that numerical features have **zero mean** and **unit variance**, making them suitable for models sensitive to feature magnitudes.\n",
    "\n",
    "### 📌 **Why Standardization?**  \n",
    "- Centers data around **mean = 0** and **standard deviation = 1**.  \n",
    "- Handles datasets with **varying scales** better than Min-Max Scaling.  \n",
    "- Works well for algorithms assuming **normally distributed data**, like **Logistic Regression, SVMs, and PCA**.\n",
    "\n",
    "### 🔹 **Formula for Standardization**  \n",
    "![image.png](attachment:6afd0641-f353-4d1f-87f9-d5722a0f42cf.png)\n",
    "where **μ** is the mean and **σ** is the standard deviation."
   ]
  },
  {
   "cell_type": "code",
   "execution_count": 80,
   "id": "82c0413a-6725-4be5-8193-17f52c763f05",
   "metadata": {},
   "outputs": [
    {
     "name": "stdout",
     "output_type": "stream",
     "text": [
      "        BMI  PhysicalHealth  MentalHealth  SleepTime\n",
      "0 -0.656682        1.957316      2.015981  -0.774109\n",
      "1  0.312391       -0.627790     -0.618788  -0.076698\n",
      "2  0.122679       -0.627790     -0.618788  -0.076698\n",
      "3  0.312391       -0.627790     -0.618788   0.620713\n",
      "4 -1.297603       -0.627790     -0.618788   0.620713\n"
     ]
    }
   ],
   "source": [
    "from sklearn.preprocessing import StandardScaler\n",
    "\n",
    "# Initialize the StandardScaler\n",
    "scaler = StandardScaler()\n",
    "\n",
    "# List of numerical columns to scale\n",
    "numerical_columns = ['BMI', 'PhysicalHealth', 'MentalHealth', 'SleepTime']\n",
    "\n",
    "# Apply Standard scaling to the numerical columns\n",
    "df[numerical_columns] = scaler.fit_transform(df[numerical_columns])\n",
    "\n",
    "# Check the scaled result\n",
    "print(df[numerical_columns].head())\n",
    "\n",
    "# Save the dataframe to a new CSV file 'standardized.csv' with only the updated columns\n",
    "df.to_csv('standardized.csv', index=False)\n"
   ]
  }
 ],
 "metadata": {
  "kernelspec": {
   "display_name": "Python [conda env:base] *",
   "language": "python",
   "name": "conda-base-py"
  },
  "language_info": {
   "codemirror_mode": {
    "name": "ipython",
    "version": 3
   },
   "file_extension": ".py",
   "mimetype": "text/x-python",
   "name": "python",
   "nbconvert_exporter": "python",
   "pygments_lexer": "ipython3",
   "version": "3.12.7"
  }
 },
 "nbformat": 4,
 "nbformat_minor": 5
}
